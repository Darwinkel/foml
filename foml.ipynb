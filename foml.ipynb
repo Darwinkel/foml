{
  "nbformat": 4,
  "nbformat_minor": 0,
  "metadata": {
    "colab": {
      "provenance": [],
      "collapsed_sections": []
    },
    "kernelspec": {
      "name": "python3",
      "display_name": "Python 3"
    },
    "language_info": {
      "name": "python"
    }
  },
  "cells": [
    {
      "cell_type": "markdown",
      "source": [
        "## Fundamentals of Machine Learning (SOMINDW07)\n",
        "## prof. dr. Malvina Nissim & Patrick Darwinkel\n",
        "\n",
        "---\n",
        "\n",
        "#### Original source code by: Mike Zhang, Johannes Bjerva and Malvina Nissim\n",
        "#### Current maintainer: Patrick Darwinkel\n",
        "\n",
        "---\n",
        "\n",
        "This notebook provides a pre-setup working environment for simple machine learning experiments. You are free to setup the code on your own computer as well, of course. "
      ],
      "metadata": {
        "id": "6TQ_YFxL-xCz"
      }
    },
    {
      "cell_type": "markdown",
      "source": [
        "We start by moving our environment to the correct Colab working directory. Then we clone the source code for this course using `git`:\n",
        "\n",
        "https://github.com/Darwinkel/foml\n"
      ],
      "metadata": {
        "id": "N1GkW0yKbAqe"
      }
    },
    {
      "cell_type": "code",
      "source": [
        "%cd /content/\n",
        "!git clone https://github.com/Darwinkel/foml.git"
      ],
      "metadata": {
        "id": "m2wt-dsHbAUe"
      },
      "execution_count": null,
      "outputs": []
    },
    {
      "cell_type": "markdown",
      "source": [
        "We move our environment into the folder that we just downloaded."
      ],
      "metadata": {
        "id": "bzurhylcbP31"
      }
    },
    {
      "cell_type": "code",
      "source": [
        "%cd foml"
      ],
      "metadata": {
        "id": "bhfw6eyebPho"
      },
      "execution_count": null,
      "outputs": []
    },
    {
      "cell_type": "markdown",
      "source": [
        "We install the Python libraries that we need to run the code through the `pip` package manager."
      ],
      "metadata": {
        "id": "nqg5aeE1b1PX"
      }
    },
    {
      "cell_type": "code",
      "execution_count": null,
      "metadata": {
        "id": "iSeH8mFcZ3Ot"
      },
      "outputs": [],
      "source": [
        "!pip install matplotlib numpy pandas scikit-learn"
      ]
    },
    {
      "cell_type": "markdown",
      "source": [
        "We run the Python script with command-line arguments."
      ],
      "metadata": {
        "id": "aD4kRVmlcB3H"
      }
    },
    {
      "cell_type": "code",
      "source": [
        "!python run_experiment.py --csv data/hyperp_subset.csv --algorithms nb --features text-cat --nwords 1 --split 70 30"
      ],
      "metadata": {
        "id": "V-OIxcT2cGA6"
      },
      "execution_count": null,
      "outputs": []
    },
    {
      "cell_type": "markdown",
      "source": [
        "## Some more examples"
      ],
      "metadata": {
        "id": "dFD6z0Ljc3ve"
      }
    },
    {
      "cell_type": "markdown",
      "source": [
        "#### Show the help info for this program; displays a wide range of configuration options."
      ],
      "metadata": {
        "id": "7ty6Zcvvc65b"
      }
    },
    {
      "cell_type": "code",
      "source": [
        "!python run_experiment.py --help"
      ],
      "metadata": {
        "id": "bf0t_Xibc8rx"
      },
      "execution_count": null,
      "outputs": []
    },
    {
      "cell_type": "markdown",
      "source": [
        "#### Run the first experiment again, but show a Confusion Matrix in text and save image plots to `foml/plot_images`. Very useful to include in a report ;) \n",
        "\n"
      ],
      "metadata": {
        "id": "foE4OXcb9wA5"
      }
    },
    {
      "cell_type": "code",
      "source": [
        "!python run_experiment.py --csv data/hyperp_subset.csv --algorithms nb --features text-cat --nwords 1 --split 70 30 --plot --cm"
      ],
      "metadata": {
        "id": "A2wVkEmMdYPw"
      },
      "execution_count": null,
      "outputs": []
    },
    {
      "cell_type": "markdown",
      "source": [
        "#### Same as the previous, but run on the test set instead of the dev set."
      ],
      "metadata": {
        "id": "SleusEBBm2Fj"
      }
    },
    {
      "cell_type": "code",
      "source": [
        "!python run_experiment.py --csv data/hyperp_subset.csv --algorithms nb --features text-cat --nwords 1 --split 70 30 --plot --cm --test"
      ],
      "metadata": {
        "id": "pKK3Tk2P-E_e"
      },
      "execution_count": null,
      "outputs": []
    }
  ]
}