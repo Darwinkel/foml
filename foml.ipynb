{
 "nbformat": 4,
 "nbformat_minor": 0,
 "metadata": {
  "colab": {
   "provenance": [],
   "collapsed_sections": []
  },
  "kernelspec": {
   "name": "python3",
   "display_name": "Python 3"
  },
  "language_info": {
   "name": "python"
  }
 },
 "cells": [
  {
   "cell_type": "markdown",
   "source": [
    "## Fundamentals of Machine Learning (SOMINDW07)\n",
    "## prof. dr. Malvina Nissim & Patrick Darwinkel\n",
    "\n",
    "---\n",
    "\n",
    "#### Original source code by: Mike Zhang, Johannes Bjerva and Malvina Nissim\n",
    "#### Current maintainer: Patrick Darwinkel\n",
    "\n",
    "---\n",
    "\n",
    "This notebook provides a pre-setup working environment for simple machine learning experiments. You are free to setup the code on your own computer as well, of course. You can run each cell of code using `Ctrl+Enter` or by clicking the `Run cell` button. When you load this notebook in a fresh Colab workspace, make sure to run all the code cells under *Preparing our environment* first to setup everything correctly."
   ],
   "metadata": {
    "id": "6TQ_YFxL-xCz"
   }
  },
  {
   "cell_type": "markdown",
   "source": [
    "# Preparing our environment"
   ],
   "metadata": {
    "id": "YjKDmkbMVCFw"
   }
  },
  {
   "cell_type": "markdown",
   "source": [
    "We start by moving our environment to the correct Colab working directory. Then we clone the source code for this course using `git`:\n",
    "\n",
    "https://github.com/Darwinkel/foml\n"
   ],
   "metadata": {
    "id": "N1GkW0yKbAqe"
   }
  },
  {
   "cell_type": "code",
   "source": [
    "%cd /content/\n",
    "!git clone https://github.com/Darwinkel/foml.git"
   ],
   "metadata": {
    "id": "m2wt-dsHbAUe"
   },
   "execution_count": null,
   "outputs": []
  },
  {
   "cell_type": "markdown",
   "source": [
    "We move our environment into the folder that we just downloaded."
   ],
   "metadata": {
    "id": "bzurhylcbP31"
   }
  },
  {
   "cell_type": "code",
   "source": [
    "%cd foml"
   ],
   "metadata": {
    "id": "bhfw6eyebPho"
   },
   "execution_count": null,
   "outputs": []
  },
  {
   "cell_type": "markdown",
   "source": [
    "We install the Python libraries that we need to run the code through the `pip` package manager."
   ],
   "metadata": {
    "id": "nqg5aeE1b1PX"
   }
  },
  {
   "cell_type": "code",
   "execution_count": null,
   "metadata": {
    "id": "iSeH8mFcZ3Ot"
   },
   "outputs": [],
   "source": [
    "!pip install matplotlib numpy pandas scikit-learn"
   ]
  },
  {
   "cell_type": "markdown",
   "source": [
    "# Uploading your own CSV files"
   ],
   "metadata": {
    "id": "XtlNW-qYVKsk"
   }
  },
  {
   "cell_type": "markdown",
   "source": [
    "The below code cell connects your own Google Drive folder to this notebook runtime. You can use this to load your own CSV datasets.\n",
    "\n",
    "In most circumstances, your main Drive folder can be accessed under `/content/drive/MyDrive`. If you click this link, you should be able to see your personal Drive files in the sidepanel.\n"
   ],
   "metadata": {
    "id": "Uk9GHGV5YUPJ"
   }
  },
  {
   "cell_type": "code",
   "source": [
    "from google.colab import drive\n",
    "\n",
    "drive.mount(\"/content/drive\")"
   ],
   "metadata": {
    "id": "N12-g14UYHbG"
   },
   "execution_count": null,
   "outputs": []
  },
  {
   "cell_type": "markdown",
   "source": [
    "# Running a complete experiment"
   ],
   "metadata": {
    "id": "vFcFJ4DKVOtE"
   }
  },
  {
   "cell_type": "markdown",
   "source": [
    "We run the Python script with command-line arguments. These command line arguments can be changed in the below cell. Note that you have to re-run the cell to set them."
   ],
   "metadata": {
    "id": "aD4kRVmlcB3H"
   }
  },
  {
   "cell_type": "code",
   "source": [
    "####  Ignore this: we clear these variables before every run.\n",
    "%env PLOT=\n",
    "%env CM=\n",
    "%env NORMALIZE=\n",
    "%env TEST=\n",
    "####\n",
    "\n",
    "# The location of the input CSV file. If you want to use your own file from Drive, change this into something like /content/drive/MyDrive/my_file.csv\n",
    "%env CSV_FILE=/content/foml/data/hyperp_subset.csv\n",
    "\n",
    "# Select the algorithm that you want to use. Valid are:\n",
    "\n",
    "# nb - Multinomial Naive Bayes\n",
    "# dt - Decision Tree\n",
    "# svm - Support Vector Machine\n",
    "# knn - K-nearest Neighbours\n",
    "\n",
    "# You can select multiple at a time by seperating them with a space e.g. `nb knn`.\n",
    "# Note that if you want to configure some parameters for Decision Trees or KNN, you have to do that using other parameters. Ask in class if you need help!\n",
    "\n",
    "%env ALGORITHMS=nb\n",
    "\n",
    "# Enter the names of the columns with features here, seperated by a space\n",
    "# Note that the program automatically detects and uses the `label` column as the target class.\n",
    "%env FEATURES=text-cat\n",
    "\n",
    "# You can change the split (train/dev) here\n",
    "%env SPLIT=70 30\n",
    "\n",
    "# Change the length of word-level n-grams to encode here\n",
    "%env NWORDS=1\n",
    "\n",
    "# Change the length of character-level n-grams to encode here\n",
    "%env NCHARS=0\n",
    "\n",
    "# Uncomment below to save a .png plot of the Confusion Matrix\n",
    "# These plots are saved in the `foml/plot_images` folder\n",
    "#%env PLOT=--plot\n",
    "\n",
    "# Uncomment below to print a text-based Confusion Matrix\n",
    "#%env CM=--cm\n",
    "\n",
    "# Uncomment below to normalize the plots\n",
    "#%env NORMALIZE=--norm\n",
    "\n",
    "# Uncomment below to run the classifier on the test set, instead of the dev set.\n",
    "#%env TEST=--test"
   ],
   "metadata": {
    "id": "267u_I38WGFA"
   },
   "execution_count": null,
   "outputs": []
  },
  {
   "cell_type": "code",
   "source": [
    "!python run_experiment.py --csv $CSV_FILE --algorithms $ALGORITHMS --features $FEATURES --split $SPLIT --nwords=$NWORDS --nchars=$NCHARS $PLOT $CM $NORMALIZE $TEST"
   ],
   "metadata": {
    "id": "V-OIxcT2cGA6"
   },
   "execution_count": null,
   "outputs": []
  },
  {
   "cell_type": "markdown",
   "source": [
    "## Some more examples"
   ],
   "metadata": {
    "id": "dFD6z0Ljc3ve"
   }
  },
  {
   "cell_type": "markdown",
   "source": [
    "#### Show the help info for this program; displays a wide range of configuration options. You in fact don't have to use the above cells to run an experiment - you can choose your own command-line parameters as well!"
   ],
   "metadata": {
    "id": "7ty6Zcvvc65b"
   }
  },
  {
   "cell_type": "code",
   "source": [
    "!python run_experiment.py --help"
   ],
   "metadata": {
    "id": "bf0t_Xibc8rx"
   },
   "execution_count": null,
   "outputs": []
  }
 ]
}